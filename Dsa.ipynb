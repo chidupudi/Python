{
 "cells": [
  {
   "cell_type": "code",
   "execution_count": 1,
   "metadata": {},
   "outputs": [
    {
     "name": "stdout",
     "output_type": "stream",
     "text": [
      "29 is a prime number.\n"
     ]
    }
   ],
   "source": [
    "def is_prime(n):\n",
    "    \"\"\"Check if a number is prime.\"\"\"\n",
    "    if n <= 1:\n",
    "        return False\n",
    "    if n <= 3:\n",
    "        return True\n",
    "    if n % 2 == 0 or n % 3 == 0:\n",
    "        return False\n",
    "    i = 5\n",
    "    while i * i <= n:\n",
    "        if n % i == 0 or n % (i + 2) == 0:\n",
    "            return False\n",
    "        i += 6\n",
    "    return True\n",
    "\n",
    "# Example usage\n",
    "num = 29\n",
    "if is_prime(num):\n",
    "    print(f\"{num} is a prime number.\")\n",
    "else:\n",
    "    print(f\"{num} is not a prime number.\")\n"
   ]
  },
  {
   "cell_type": "code",
   "execution_count": 1,
   "id": "91a080d2",
   "metadata": {},
   "outputs": [
    {
     "name": "stdout",
     "output_type": "stream",
     "text": [
      "The element wise square root is : \n",
      "[[1.         1.41421356]\n",
      " [2.         2.23606798]]\n",
      "The summation of all matrix element is : \n",
      "34\n",
      "The column wise summation of all matrix  is : \n",
      "[16 18]\n",
      "The row wise summation of all matrix  is : \n",
      "[15 19]\n",
      "The transpose of given matrix is : \n",
      "[[1 4]\n",
      " [2 5]]\n"
     ]
    }
   ],
   "source": [
    "  \n",
    "# importing numpy for matrix operations \n",
    "import numpy \n",
    "  \n",
    "# initializing matrices \n",
    "x = numpy.array([[1, 2], [4, 5]]) \n",
    "y = numpy.array([[7, 8], [9, 10]]) \n",
    "  \n",
    "# using sqrt() to print the square root of matrix \n",
    "print (\"The element wise square root is : \") \n",
    "print (numpy.sqrt(x)) \n",
    "  \n",
    "# using sum() to print summation of all elements of matrix \n",
    "print (\"The summation of all matrix element is : \") \n",
    "print (numpy.sum(y)) \n",
    "  \n",
    "# using sum(axis=0) to print summation of all columns of matrix \n",
    "print (\"The column wise summation of all matrix  is : \") \n",
    "print (numpy.sum(y,axis=0)) \n",
    "  \n",
    "# using sum(axis=1) to print summation of all columns of matrix \n",
    "print (\"The row wise summation of all matrix  is : \") \n",
    "print (numpy.sum(y,axis=1)) \n",
    "  \n",
    "# using \"T\" to transpose the matrix \n",
    "print (\"The transpose of given matrix is : \") \n",
    "print (x.T) "
   ]
  }
 ],
 "metadata": {
  "kernelspec": {
   "display_name": "Python 3",
   "language": "python",
   "name": "python3"
  },
  "language_info": {
   "codemirror_mode": {
    "name": "ipython",
    "version": 3
   },
   "file_extension": ".py",
   "mimetype": "text/x-python",
   "name": "python",
   "nbconvert_exporter": "python",
   "pygments_lexer": "ipython3",
   "version": "3.12.2"
  }
 },
 "nbformat": 4,
 "nbformat_minor": 5
}
