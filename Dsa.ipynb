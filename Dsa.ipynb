{
 "cells": [
  {
   "cell_type": "code",
   "execution_count": 1,
   "metadata": {},
   "outputs": [
    {
     "name": "stdout",
     "output_type": "stream",
     "text": [
      "29 is a prime number.\n"
     ]
    }
   ],
   "source": [
    "def is_prime(n):\n",
    "    \"\"\"Check if a number is prime.\"\"\"\n",
    "    if n <= 1:\n",
    "        return False\n",
    "    if n <= 3:\n",
    "        return True\n",
    "    if n % 2 == 0 or n % 3 == 0:\n",
    "        return False\n",
    "    i = 5\n",
    "    while i * i <= n:\n",
    "        if n % i == 0 or n % (i + 2) == 0:\n",
    "            return False\n",
    "        i += 6\n",
    "    return True\n",
    "\n",
    "# Example usage\n",
    "num = 29\n",
    "if is_prime(num):\n",
    "    print(f\"{num} is a prime number.\")\n",
    "else:\n",
    "    print(f\"{num} is not a prime number.\")\n"
   ]
  },
  {
   "cell_type": "code",
   "execution_count": 1,
   "id": "91a080d2",
   "metadata": {},
   "outputs": [
    {
     "name": "stdout",
     "output_type": "stream",
     "text": [
      "The element wise square root is : \n",
      "[[1.         1.41421356]\n",
      " [2.         2.23606798]]\n",
      "The summation of all matrix element is : \n",
      "34\n",
      "The column wise summation of all matrix  is : \n",
      "[16 18]\n",
      "The row wise summation of all matrix  is : \n",
      "[15 19]\n",
      "The transpose of given matrix is : \n",
      "[[1 4]\n",
      " [2 5]]\n"
     ]
    }
   ],
   "source": [
    "  \n",
    "# importing numpy for matrix operations \n",
    "import numpy \n",
    "  \n",
    "# initializing matrices \n",
    "x = numpy.array([[1, 2], [4, 5]]) \n",
    "y = numpy.array([[7, 8], [9, 10]]) \n",
    "  \n",
    "# using sqrt() to print the square root of matrix \n",
    "print (\"The element wise square root is : \") \n",
    "print (numpy.sqrt(x)) \n",
    "  \n",
    "# using sum() to print summation of all elements of matrix \n",
    "print (\"The summation of all matrix element is : \") \n",
    "print (numpy.sum(y)) \n",
    "  \n",
    "# using sum(axis=0) to print summation of all columns of matrix \n",
    "print (\"The column wise summation of all matrix  is : \") \n",
    "print (numpy.sum(y,axis=0)) \n",
    "  \n",
    "# using sum(axis=1) to print summation of all columns of matrix \n",
    "print (\"The row wise summation of all matrix  is : \") \n",
    "print (numpy.sum(y,axis=1)) \n",
    "  \n",
    "# using \"T\" to transpose the matrix \n",
    "print (\"The transpose of given matrix is : \") \n",
    "print (x.T) "
   ]
  },
  {
   "cell_type": "code",
   "execution_count": 1,
   "id": "8a344389",
   "metadata": {},
   "outputs": [
    {
     "name": "stdout",
     "output_type": "stream",
     "text": [
      "Unsorted array: [64, 34, 25, 12, 22, 11, 90]\n",
      "Sorted array: [11, 12, 22, 25, 34, 64, 90]\n"
     ]
    }
   ],
   "source": [
    "def bubble_sort(arr):\n",
    "    \"\"\"\n",
    "    This function implements the Bubble Sort algorithm to sort an array in ascending order.\n",
    "    \n",
    "    Parameters:\n",
    "    arr (list): The list of elements to be sorted.\n",
    "    \n",
    "    Returns:\n",
    "    list: The sorted list.\n",
    "    \"\"\"\n",
    "    n = len(arr)\n",
    "    \n",
    "    # Traverse through all array elements\n",
    "    for i in range(n):\n",
    "        # Last i elements are already in place\n",
    "        for j in range(0, n - i - 1):\n",
    "            # Traverse the array from 0 to n-i-1\n",
    "            # Swap if the element found is greater than the next element\n",
    "            if arr[j] > arr[j + 1]:\n",
    "                arr[j], arr[j + 1] = arr[j + 1], arr[j]\n",
    "    \n",
    "    return arr\n",
    "\n",
    "# Example usage\n",
    "if __name__ == \"__main__\":\n",
    "    arr = [64, 34, 25, 12, 22, 11, 90]\n",
    "    print(\"Unsorted array:\", arr)\n",
    "    sorted_arr = bubble_sort(arr)\n",
    "    print(\"Sorted array:\", sorted_arr)\n"
   ]
  },
  {
   "cell_type": "code",
   "execution_count": 1,
   "id": "b20f05c4",
   "metadata": {},
   "outputs": [
    {
     "name": "stdout",
     "output_type": "stream",
     "text": [
      "Collecting gtts\n",
      "  Downloading gTTS-2.5.1-py3-none-any.whl.metadata (4.1 kB)\n",
      "Collecting requests<3,>=2.27 (from gtts)\n",
      "  Using cached requests-2.32.3-py3-none-any.whl.metadata (4.6 kB)\n",
      "Collecting click<8.2,>=7.1 (from gtts)\n",
      "  Downloading click-8.1.7-py3-none-any.whl.metadata (3.0 kB)\n",
      "Requirement already satisfied: colorama in c:\\users\\chrup\\appdata\\roaming\\python\\python312\\site-packages (from click<8.2,>=7.1->gtts) (0.4.6)\n",
      "Requirement already satisfied: charset-normalizer<4,>=2 in c:\\python312\\lib\\site-packages (from requests<3,>=2.27->gtts) (3.3.2)\n",
      "Requirement already satisfied: idna<4,>=2.5 in c:\\python312\\lib\\site-packages (from requests<3,>=2.27->gtts) (3.7)\n",
      "Requirement already satisfied: urllib3<3,>=1.21.1 in c:\\python312\\lib\\site-packages (from requests<3,>=2.27->gtts) (2.2.2)\n",
      "Collecting certifi>=2017.4.17 (from requests<3,>=2.27->gtts)\n",
      "  Using cached certifi-2024.6.2-py3-none-any.whl.metadata (2.2 kB)\n",
      "Downloading gTTS-2.5.1-py3-none-any.whl (29 kB)\n",
      "Downloading click-8.1.7-py3-none-any.whl (97 kB)\n",
      "   ---------------------------------------- 0.0/97.9 kB ? eta -:--:--\n",
      "   ---------------- ----------------------- 41.0/97.9 kB 991.0 kB/s eta 0:00:01\n",
      "   ------------------------------------- -- 92.2/97.9 kB 1.1 MB/s eta 0:00:01\n",
      "   ---------------------------------------- 97.9/97.9 kB 933.0 kB/s eta 0:00:00\n",
      "Using cached requests-2.32.3-py3-none-any.whl (64 kB)\n",
      "Using cached certifi-2024.6.2-py3-none-any.whl (164 kB)\n",
      "Installing collected packages: click, certifi, requests, gtts\n",
      "Note: you may need to restart the kernel to use updated packages.\n"
     ]
    },
    {
     "name": "stderr",
     "output_type": "stream",
     "text": [
      "  WARNING: Failed to write executable - trying to use .deleteme logic\n",
      "ERROR: Could not install packages due to an OSError: [WinError 2] The system cannot find the file specified: 'c:\\\\Python312\\\\Scripts\\\\gtts-cli.exe' -> 'c:\\\\Python312\\\\Scripts\\\\gtts-cli.exe.deleteme'\n",
      "\n",
      "\n",
      "[notice] A new release of pip is available: 24.0 -> 24.1.1\n",
      "[notice] To update, run: python.exe -m pip install --upgrade pip\n"
     ]
    }
   ],
   "source": [
    "pip install gtts\n"
   ]
  },
  {
   "cell_type": "code",
   "execution_count": 2,
   "id": "1448fa49",
   "metadata": {},
   "outputs": [
    {
     "name": "stdout",
     "output_type": "stream",
     "text": [
      "Saved as output.mp3\n"
     ]
    }
   ],
   "source": [
    "from gtts import gTTS\n",
    "import os\n",
    "\n",
    "def text_to_speech(text, lang='en', filename='output.mp3'):\n",
    "    tts = gTTS(text=text, lang=lang)\n",
    "    tts.save(filename)\n",
    "    print(f\"Saved as {filename}\")\n",
    "\n",
    "text = \"Python library\"\n",
    "text_to_speech(text)\n"
   ]
  }
 ],
 "metadata": {
  "kernelspec": {
   "display_name": "Python 3",
   "language": "python",
   "name": "python3"
  },
  "language_info": {
   "codemirror_mode": {
    "name": "ipython",
    "version": 3
   },
   "file_extension": ".py",
   "mimetype": "text/x-python",
   "name": "python",
   "nbconvert_exporter": "python",
   "pygments_lexer": "ipython3",
   "version": "3.12.2"
  }
 },
 "nbformat": 4,
 "nbformat_minor": 5
}
